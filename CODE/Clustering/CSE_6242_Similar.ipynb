{
 "cells": [
  {
   "cell_type": "markdown",
   "metadata": {
    "id": "xhxnAnbnS5gN"
   },
   "source": [
    "# DATA IMPORT"
   ]
  },
  {
   "cell_type": "code",
   "execution_count": 1,
   "metadata": {
    "id": "pMzq3JdHS0oB"
   },
   "outputs": [],
   "source": [
    "import pandas as pd\n",
    "import numpy as np\n",
    "from functools import reduce\n",
    "from matplotlib import pyplot as plt\n",
    "import seaborn as sns\n",
    "from sklearn.cluster import KMeans\n",
    "from sklearn.preprocessing import StandardScaler\n",
    "import pylab as pl\n",
    "from sklearn.metrics import pairwise_distances_argmin_min\n",
    "from sklearn.metrics import silhouette_score\n",
    "from functools import reduce\n",
    "import sqlite3\n",
    "from tqdm.notebook import tqdm\n",
    "import warnings\n",
    "warnings.filterwarnings('ignore')"
   ]
  },
  {
   "cell_type": "code",
   "execution_count": 2,
   "metadata": {
    "colab": {
     "base_uri": "https://localhost:8080/",
     "height": 408
    },
    "id": "igoIVRhITBLe",
    "outputId": "b7b35f06-6d6c-4bcf-873a-d681d7b4377e"
   },
   "outputs": [],
   "source": [
    "combined = pd.read_csv('00 combined_filtered.csv')\n",
    "# mens = pd.read_csv('01 men_filtered.csv')\n",
    "# womens = pd.read_csv('01 women_filtered.csv')"
   ]
  },
  {
   "cell_type": "code",
   "execution_count": 3,
   "metadata": {
    "id": "lXrKVPO_UK7u"
   },
   "outputs": [],
   "source": [
    "renamed = ['Player', 'Pos', 'Squad', 'Gender', 'League', 'Gen+League', 'Season',\n",
    "       'Age', 'Born', 'Nation', 'ATT', 'MID', 'DEF', 'MP', 'Min', 'Starts', 'Ast', 'G+A/90',\n",
    "       'G+A-PK/90',  'G-PK/90', 'Gls/90', 'Ast/90', 'CrdR', 'CrdY',\n",
    "       'Fls', 'Gls', 'OG', 'PK','PKatt', 'G/SoT','SoT', 'SoT/90', 'Tkl+Int']\n",
    "combined.columns = renamed\n",
    "# mens.columns = renamed\n",
    "# womens.columns = renamed"
   ]
  },
  {
   "cell_type": "code",
   "execution_count": 4,
   "metadata": {
    "id": "aEsWcF9_WlQt"
   },
   "outputs": [],
   "source": [
    "total_matches = combined.groupby('Gen+League').agg({'MP': 'max'})\n",
    "total_matches.rename(columns ={'MP': 'Total_MP'}, inplace = True)\n",
    "top_fls = combined.groupby('Gen+League').agg({'Fls': 'max'})\n",
    "top_fls.rename(columns ={'Fls': 'Top_Fls'}, inplace = True)\n",
    "top_tkl = combined.groupby('Gen+League').agg({'Tkl+Int': 'max'})\n",
    "top_tkl.rename(columns ={'Tkl+Int': 'Top_Tkl'}, inplace = True)\n",
    "combined = combined.merge(total_matches, on = \"Gen+League\", how = 'left')\n",
    "combined = combined.merge(top_fls, on = \"Gen+League\", how = 'left')\n",
    "combined = combined.merge(top_tkl, on = \"Gen+League\", how = 'left')\n"
   ]
  },
  {
   "cell_type": "code",
   "execution_count": 5,
   "metadata": {
    "id": "mWRu5fpKTpqX"
   },
   "outputs": [],
   "source": [
    "def distrib(df, attributes, category):\n",
    "    temp_list = attributes.copy()\n",
    "    temp_list.append(category)\n",
    "    a = df[temp_list].groupby(category)\n",
    "    outdict = {}\n",
    "    for name, group in a:\n",
    "        outdict[name] = {\"averages\":group.mean(axis=0), \"std dev\":group.std(axis=0)}\n",
    "        group.hist(figsize=(50, 30))\n",
    "        plt.suptitle(name, fontsize=40)\n",
    "    return outdict\n",
    "\n",
    "def by_stat(summary, statlist):\n",
    "    statdict = {}\n",
    "    for stat in summary[\"A-League\"]['averages'].keys():\n",
    "#         statlist.append(stat)\n",
    "        statdict[stat] = {}\n",
    "    \n",
    "    for stat in statlist:\n",
    "        for lg in summary:\n",
    "            mean = summary[lg]['averages'][stat]\n",
    "            stddev = summary[lg]['std dev'][stat]\n",
    "            #print(lg, stat, mean, stddev)\n",
    "            statdict[stat][lg] = (mean,stddev)\n",
    "    #print(statdict)\n",
    "    return statdict\n",
    "\n",
    "def normalize(df, attribute, group):\n",
    "    col_name = 'norm ' + attribute\n",
    "    a = df.groupby(group)\n",
    "    aDict = {}\n",
    "    for name, g in a:\n",
    "        mu = g[attribute].mean()\n",
    "        sigma = g[attribute].std()\n",
    "        aDict[name] = [mu, sigma]\n",
    "    df1 = pd.DataFrame(aDict).transpose()\n",
    "    df1.reset_index(level=0, inplace=True)\n",
    "    df1.columns = [group, 'mean', 'stdev']\n",
    "    df = df.merge(df1, how = 'left', on = group)\n",
    "    df[col_name] = (df[attribute] - df['mean'])/df['stdev']\n",
    "    df.drop('mean', axis=1 , inplace = True)\n",
    "    df.drop('stdev', axis=1 , inplace = True)\n",
    "    return df\n",
    "\n",
    "def log_scale(df, attribute):\n",
    "    col_name = 'log ' + attribute\n",
    "    df[col_name] = np.log(df[[attribute]].replace(0, np.nan)).fillna(0)\n",
    "    return df\n",
    "\n",
    "def rank_order(df, attribute, group):\n",
    "    col_name = 'rank ' + attribute\n",
    "    df[col_name] = df.groupby(group)[attribute].rank(\"dense\", pct = True)\n",
    "    return df"
   ]
  },
  {
   "cell_type": "code",
   "execution_count": 6,
   "metadata": {
    "colab": {
     "base_uri": "https://localhost:8080/"
    },
    "id": "zu3SvQnqXXa1",
    "outputId": "7f381639-a217-460f-b896-8b3ae529b0f4"
   },
   "outputs": [
    {
     "data": {
      "text/plain": [
       "Index(['Player', 'Pos', 'Squad', 'Gender', 'League', 'Gen+League', 'Season',\n",
       "       'Age', 'Born', 'Nation', 'ATT', 'MID', 'DEF', 'MP', 'Min', 'Starts',\n",
       "       'Ast', 'G+A/90', 'G+A-PK/90', 'G-PK/90', 'Gls/90', 'Ast/90', 'CrdR',\n",
       "       'CrdY', 'Fls', 'Gls', 'OG', 'PK', 'PKatt', 'G/SoT', 'SoT', 'SoT/90',\n",
       "       'Tkl+Int', 'Total_MP', 'Top_Fls', 'Top_Tkl', '%MP', '%Starts', '%Min',\n",
       "       'norm Age', 'log CrdY', 'log CrdR', 'rank MP', 'rank Gls', 'rank Ast',\n",
       "       'rank PK', 'rank SoT', 'rank CrdY', 'rank CrdR', 'Fls/Top', 'Tkl/Top'],\n",
       "      dtype='object')"
      ]
     },
     "execution_count": 6,
     "metadata": {},
     "output_type": "execute_result"
    }
   ],
   "source": [
    "# Get % for Minutes and Matches Played\n",
    "combined['%MP'] = combined['MP']/combined['Total_MP']\n",
    "combined['%Starts'] = combined['Starts']/combined['Total_MP']\n",
    "combined['%Min'] = combined['Min']/(combined['Total_MP']*90)\n",
    "\n",
    "# Z-score normalizing\n",
    "combined = normalize(combined, 'Age', 'Gen+League')\n",
    "\n",
    "# log scaling\n",
    "combined = log_scale(combined, 'CrdY')\n",
    "combined = log_scale(combined, 'CrdR')\n",
    "\n",
    "# rank orders\n",
    "combined = rank_order(combined,\"MP\", 'Gen+League')\n",
    "combined = rank_order(combined,\"Gls\", 'Gen+League')\n",
    "combined = rank_order(combined,\"Ast\", 'Gen+League')\n",
    "combined = rank_order(combined,\"PK\", 'Gen+League')\n",
    "combined = rank_order(combined,\"SoT\", 'Gen+League')\n",
    "combined = rank_order(combined,\"CrdY\", 'Gen+League')\n",
    "combined = rank_order(combined,\"CrdR\", 'Gen+League')\n",
    "\n",
    "# percentile scaled\n",
    "combined['Fls/Top'] = combined['Fls']/combined['Top_Fls']\n",
    "combined['Tkl/Top'] = combined['Tkl+Int']/combined['Top_Tkl']\n",
    "\n",
    "\n",
    "combined.columns"
   ]
  },
  {
   "cell_type": "code",
   "execution_count": 7,
   "metadata": {},
   "outputs": [],
   "source": [
    "col1 = ['Age', '%MP', '%Min', '%Starts', \n",
    "               'G+A/90', 'G+A-PK/90', 'G-PK/90', 'Gls/90', 'Ast/90', 'SoT/90',\n",
    "               'Tkl+Int', 'OG', 'Fls', 'PK', 'PKatt', 'G/SoT', \n",
    "               'norm Age', 'rank SoT', 'rank CrdY', 'rank CrdR', 'rank MP', 'rank Gls', 'rank Ast', \n",
    "               'Fls/Top', 'Tkl/Top']"
   ]
  },
  {
   "cell_type": "markdown",
   "metadata": {
    "id": "PZJGH59xHLfb"
   },
   "source": [
    "## Finding Similar Players"
   ]
  },
  {
   "cell_type": "markdown",
   "metadata": {
    "id": "3IwP2TC6HPft"
   },
   "source": [
    "Finds the other players most similar to specified player. Can look for other players in a specific league or gender"
   ]
  },
  {
   "cell_type": "code",
   "execution_count": 8,
   "metadata": {
    "id": "HT8kBz5Lo64H"
   },
   "outputs": [],
   "source": [
    "def find_similar(name, df, league = None, gender = None):\n",
    "  combined['League'].unique()\n",
    "  df[df['Player']==name]\n",
    "\n",
    "  scaler = StandardScaler()\n",
    "  scaled_features = scaler.fit_transform(df[col1].fillna(0))\n",
    "\n",
    "  coordinates = pd.DataFrame(scaled_features.copy())\n",
    "  coordinates['Player'] = df['Player']\n",
    "  coordinates['League'] = df['League']\n",
    "  coordinates['Gender'] = df['Gender']\n",
    "\n",
    "\n",
    "  player = coordinates[coordinates['Player'] == name]\n",
    "  player.drop(['Player',  'League', 'Gender'], axis = 1, inplace = True)\n",
    "  player = np.array(player)\n",
    "\n",
    "  others = coordinates[coordinates['Player'] != name]\n",
    "  results_df = combined[combined['Player'] != name]\n",
    "\n",
    "  if league != None:\n",
    "    others = others[others['League'] == league]\n",
    "    results_df = results_df[results_df['League'] == league]\n",
    "  if gender != None:\n",
    "    others = others[others['Gender'] == gender]\n",
    "    results_df = results_df[results_df['Gender'] == gender]\n",
    "  others = others.drop(['Player','League', 'Gender'], axis = 1)\n",
    "  others = np.array(others)\n",
    "\n",
    "  indices = pairwise_distances_argmin_min(player, others)\n",
    "  results_df = results_df.iloc[indices[0]]\n",
    "\n",
    "  results_df = results_df[['Player', 'Pos', 'Squad', 'Gender', 'League', 'Season',\n",
    "       'Age', 'Min', 'Gls/90', 'Ast/90',\n",
    "       'SoT/90',\n",
    "       'Fls', 'Tkl+Int']]\n",
    "  return results_df\n",
    "\n"
   ]
  },
  {
   "cell_type": "code",
   "execution_count": 9,
   "metadata": {},
   "outputs": [],
   "source": [
    "players = combined['Player'].unique()"
   ]
  },
  {
   "cell_type": "code",
   "execution_count": 10,
   "metadata": {},
   "outputs": [
    {
     "data": {
      "text/plain": [
       "24818"
      ]
     },
     "execution_count": 10,
     "metadata": {},
     "output_type": "execute_result"
    }
   ],
   "source": [
    "len(players)"
   ]
  },
  {
   "cell_type": "code",
   "execution_count": 11,
   "metadata": {},
   "outputs": [
    {
     "data": {
      "text/html": [
       "<div>\n",
       "<style scoped>\n",
       "    .dataframe tbody tr th:only-of-type {\n",
       "        vertical-align: middle;\n",
       "    }\n",
       "\n",
       "    .dataframe tbody tr th {\n",
       "        vertical-align: top;\n",
       "    }\n",
       "\n",
       "    .dataframe thead th {\n",
       "        text-align: right;\n",
       "    }\n",
       "</style>\n",
       "<table border=\"1\" class=\"dataframe\">\n",
       "  <thead>\n",
       "    <tr style=\"text-align: right;\">\n",
       "      <th></th>\n",
       "      <th>Source</th>\n",
       "      <th>Player</th>\n",
       "      <th>Pos</th>\n",
       "      <th>Squad</th>\n",
       "      <th>Gender</th>\n",
       "      <th>League</th>\n",
       "      <th>Season</th>\n",
       "      <th>Age</th>\n",
       "      <th>Min</th>\n",
       "      <th>Gls/90</th>\n",
       "      <th>Ast/90</th>\n",
       "      <th>SoT/90</th>\n",
       "      <th>Fls</th>\n",
       "      <th>Tkl+Int</th>\n",
       "    </tr>\n",
       "  </thead>\n",
       "  <tbody>\n",
       "  </tbody>\n",
       "</table>\n",
       "</div>"
      ],
      "text/plain": [
       "Empty DataFrame\n",
       "Columns: [Source, Player, Pos, Squad, Gender, League, Season, Age, Min, Gls/90, Ast/90, SoT/90, Fls, Tkl+Int]\n",
       "Index: []"
      ]
     },
     "execution_count": 11,
     "metadata": {},
     "output_type": "execute_result"
    }
   ],
   "source": [
    "output = pd.DataFrame(columns=['Source', 'Player', 'Pos', 'Squad', 'Gender', 'League', 'Season',\n",
    "       'Age', 'Min', 'Gls/90', 'Ast/90',\n",
    "       'SoT/90',\n",
    "       'Fls', 'Tkl+Int'])\n",
    "output.head()"
   ]
  },
  {
   "cell_type": "code",
   "execution_count": 12,
   "metadata": {},
   "outputs": [
    {
     "data": {
      "application/vnd.jupyter.widget-view+json": {
       "model_id": "9663dec758344d82be0fd40511cbb89f",
       "version_major": 2,
       "version_minor": 0
      },
      "text/plain": [
       "HBox(children=(FloatProgress(value=0.0, max=24818.0), HTML(value='')))"
      ]
     },
     "metadata": {},
     "output_type": "display_data"
    },
    {
     "name": "stdout",
     "output_type": "stream",
     "text": [
      "\n"
     ]
    }
   ],
   "source": [
    "\n",
    "for p in tqdm(players):\n",
    "    rst = find_similar(p, combined)\n",
    "    rst['Source'] = p\n",
    "    output = output.append(rst)"
   ]
  },
  {
   "cell_type": "code",
   "execution_count": 16,
   "metadata": {},
   "outputs": [],
   "source": [
    "output.to_csv('similar_players.csv', index=False)"
   ]
  },
  {
   "cell_type": "code",
   "execution_count": 17,
   "metadata": {},
   "outputs": [],
   "source": [
    "edges = output[['Source','Player']].drop_duplicates()\n",
    "edges.to_csv('player_edges.csv', index=False)"
   ]
  },
  {
   "cell_type": "code",
   "execution_count": null,
   "metadata": {},
   "outputs": [],
   "source": []
  }
 ],
 "metadata": {
  "colab": {
   "name": "CSE 6242 Final Clustering Analysis",
   "provenance": []
  },
  "kernelspec": {
   "display_name": "Python 3",
   "language": "python",
   "name": "python3"
  },
  "language_info": {
   "codemirror_mode": {
    "name": "ipython",
    "version": 3
   },
   "file_extension": ".py",
   "mimetype": "text/x-python",
   "name": "python",
   "nbconvert_exporter": "python",
   "pygments_lexer": "ipython3",
   "version": "3.7.1"
  }
 },
 "nbformat": 4,
 "nbformat_minor": 1
}
